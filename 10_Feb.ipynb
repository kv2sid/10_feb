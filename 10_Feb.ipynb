{
 "cells": [
  {
   "cell_type": "markdown",
   "id": "0f0c46a9-fa46-4dc1-b0cc-88bbebae8394",
   "metadata": {},
   "source": [
    "Q1. Which function is used to open a file? What are the different modes of opening a file? Explain each mode\n",
    "of file opening.\n",
    "\n",
    "Answer - In python we can use inbuilt funtion 'open' to open the file. Following is the syntex to open the file.\n",
    "\n",
    "file_object = open(filename, mode)\n",
    "\n",
    "Where, filename is the name of the file. And mode is  a string, which is used to open the file in diffrent types of modes. The different types of modes in the file are.\n",
    "1. 'r' : Read mode is use for reading the file only.\n",
    "2. 'w' : write mode is use for writing the file only.It is use to write the existing file only. if the file is not available then it will create a new file.\n",
    "3. 'a' : append mode is use for opens a exising file to writing. But appends to the end of the file instead of overwriting it.\n",
    "4. 'x': Exclusive creation mode. Creates a new file, but only if it doesn't already exist. If the file exists, an error will be raised.\n",
    "5. 'b': Binary mode. Opens a file in binary mode, which is used for non-text files like images or audio.\n",
    "6. 't': Text mode (default mode). Opens a file in text mode, which is used for text files like .txt, .csv, etc.\n",
    "We can also combine modes by using a + symbol. For example, 'r+' will open a file for both reading and writing.\n"
   ]
  },
  {
   "cell_type": "code",
   "execution_count": 16,
   "id": "a227abc5-9f83-43d1-a501-51677ab20bb1",
   "metadata": {},
   "outputs": [
    {
     "data": {
      "text/plain": [
       "37"
      ]
     },
     "execution_count": 16,
     "metadata": {},
     "output_type": "execute_result"
    }
   ],
   "source": [
    "# Create a file and open in different modes\n",
    "file_object = open('new_file.txt', 'w')\n",
    "file_object.write('This is my first text file in python\\n')"
   ]
  },
  {
   "cell_type": "code",
   "execution_count": 17,
   "id": "78a2059f-dbd8-456b-a787-0c7bda831eed",
   "metadata": {},
   "outputs": [],
   "source": [
    "file_object.close()"
   ]
  },
  {
   "cell_type": "code",
   "execution_count": 18,
   "id": "337eb6b0-b188-4dd9-8823-3167f7f7e718",
   "metadata": {},
   "outputs": [
    {
     "data": {
      "text/plain": [
       "28"
      ]
     },
     "execution_count": 18,
     "metadata": {},
     "output_type": "execute_result"
    }
   ],
   "source": [
    "file_object = open('new_file.txt', 'a')\n",
    "file_object.write('My new file name is new_file')"
   ]
  },
  {
   "cell_type": "code",
   "execution_count": 19,
   "id": "2342c382-cb29-46d2-914e-968a4c990845",
   "metadata": {},
   "outputs": [],
   "source": [
    "file_object.close()"
   ]
  },
  {
   "cell_type": "code",
   "execution_count": 20,
   "id": "052c4d38-cbb4-4ea8-a307-65083005b447",
   "metadata": {},
   "outputs": [],
   "source": [
    "x1= open('new_file.txt',\"r\")"
   ]
  },
  {
   "cell_type": "code",
   "execution_count": 21,
   "id": "a00ccc34-e8e7-4fce-908e-4e1ac117db05",
   "metadata": {},
   "outputs": [
    {
     "data": {
      "text/plain": [
       "'This is my first text file in python\\nMy new file name is new_file'"
      ]
     },
     "execution_count": 21,
     "metadata": {},
     "output_type": "execute_result"
    }
   ],
   "source": [
    "x1.read()"
   ]
  },
  {
   "cell_type": "code",
   "execution_count": 22,
   "id": "30b19e95-4313-4581-93f4-70910253091c",
   "metadata": {},
   "outputs": [
    {
     "data": {
      "text/plain": [
       "5"
      ]
     },
     "execution_count": 22,
     "metadata": {},
     "output_type": "execute_result"
    }
   ],
   "source": [
    "x1.seek(5)"
   ]
  },
  {
   "cell_type": "code",
   "execution_count": 23,
   "id": "1254bafd-ee49-4865-b958-0f381983fd75",
   "metadata": {},
   "outputs": [
    {
     "data": {
      "text/plain": [
       "'is my first text file in python\\nMy new file name is new_file'"
      ]
     },
     "execution_count": 23,
     "metadata": {},
     "output_type": "execute_result"
    }
   ],
   "source": [
    "x1.read()"
   ]
  },
  {
   "cell_type": "code",
   "execution_count": 2,
   "id": "dcef99ba-be8b-4dab-b91f-41a2ec58cbc3",
   "metadata": {},
   "outputs": [
    {
     "name": "stdout",
     "output_type": "stream",
     "text": [
      "This is my first text file in python\n",
      "\n",
      "My new file name is new_file\n"
     ]
    }
   ],
   "source": [
    "x1 = open('new_file.txt',\"r\")\n",
    "for i in x1:\n",
    "    print(i)"
   ]
  },
  {
   "cell_type": "code",
   "execution_count": 4,
   "id": "38ef3db3-5cc2-419e-a9a4-0e8d83264684",
   "metadata": {},
   "outputs": [],
   "source": [
    "import os"
   ]
  },
  {
   "cell_type": "code",
   "execution_count": 5,
   "id": "be9f028f-46a7-445a-a56a-8f369918cd01",
   "metadata": {},
   "outputs": [
    {
     "data": {
      "text/plain": [
       "65"
      ]
     },
     "execution_count": 5,
     "metadata": {},
     "output_type": "execute_result"
    }
   ],
   "source": [
    "os.path.getsize('new_file.txt')"
   ]
  },
  {
   "cell_type": "code",
   "execution_count": null,
   "id": "1ce355fa-4ff6-4ab8-9c2a-bbb5decd87d7",
   "metadata": {},
   "outputs": [],
   "source": []
  },
  {
   "cell_type": "markdown",
   "id": "94e80ebe-7483-407c-88c3-68163bcf3254",
   "metadata": {},
   "source": [
    "Q2. Why close() function is used? Why is it important to close a file?"
   ]
  },
  {
   "cell_type": "markdown",
   "id": "a9e714c6-2c1a-4806-914d-d2fa2e40b051",
   "metadata": {},
   "source": [
    "Answer - The close() function in Python, used to close a file. That is, when a file is opened using open() function and all the operation has been done on the file, then the file object or handler must be closed using the close() function to break the linkage of file from the program."
   ]
  },
  {
   "cell_type": "markdown",
   "id": "ac979bef-edbb-4dcb-bd55-566e719a85ec",
   "metadata": {},
   "source": [
    "Q3. Write a python program to create a text file. Write ‘I want to become a Data Scientist’ in that file. Then\n",
    "close the file. Open this file and read the content of the file."
   ]
  },
  {
   "cell_type": "code",
   "execution_count": 3,
   "id": "9c98a940-41bd-4e91-aba0-f33883e7abe7",
   "metadata": {},
   "outputs": [
    {
     "data": {
      "text/plain": [
       "33"
      ]
     },
     "execution_count": 3,
     "metadata": {},
     "output_type": "execute_result"
    }
   ],
   "source": [
    "# create a text file. Write ‘I want to become a Data Scientist’ in that file\n",
    "f = open('new_file2.txt','w')\n",
    "f.write('I want to become a Data Scientist')\n"
   ]
  },
  {
   "cell_type": "code",
   "execution_count": 4,
   "id": "f90ae05a-2583-400d-9cc9-017e381ccb58",
   "metadata": {},
   "outputs": [],
   "source": [
    "f.close()"
   ]
  },
  {
   "cell_type": "code",
   "execution_count": 7,
   "id": "40c43c3e-4811-421d-9aa5-15d4692845c2",
   "metadata": {},
   "outputs": [
    {
     "data": {
      "text/plain": [
       "'I want to become a Data Scientist'"
      ]
     },
     "execution_count": 7,
     "metadata": {},
     "output_type": "execute_result"
    }
   ],
   "source": [
    "f= open('new_file2.txt','r')\n",
    "f.read()"
   ]
  },
  {
   "cell_type": "markdown",
   "id": "fee8e114-e71b-4476-aa2f-21b2952c61ad",
   "metadata": {},
   "source": [
    "Q4. Explain the following with python code: read(), readline() and readlines().\n",
    "Answer = The read method reads the entire contents of a file and returns it as a string.\n",
    "\n",
    "The readline method reads a single line from a file and returns it as a string. This means that if you use readline, you can read the contents of a file line by line, which can be useful for processing large files that do not fit in memory.\n",
    "\n",
    "The readline method reads a single line from a file and returns it as a string, while the readlines method reads the entire contents of a file and returns it as a list of strings, where each element of the list is a single line of the file."
   ]
  },
  {
   "cell_type": "markdown",
   "id": "132e0222-8568-40e7-ab8c-a878f56f4338",
   "metadata": {},
   "source": [
    "Q5. Explain why with statement is used with open(). What is the advantage of using with statement and open() together?\n",
    "\n",
    "Answer - The with statement in Python is used to manage resources like file streams or network connections. When used with the open() function, it ensures that the file is properly opened and closed, and any resources associated with it are automatically released.\n",
    "\n",
    "The with statement provides a clean way of handling files by taking care of closing the file automatically after the block of code within the with statement is executed. This is important because forgetting to close a file can lead to resource leaks and errors in the program."
   ]
  },
  {
   "cell_type": "markdown",
   "id": "4d9efb78-6057-4dad-8c33-706853de0328",
   "metadata": {},
   "source": [
    "Q6. Explain the write() and writelines() functions. Give a suitable example.\n",
    "Answer - \n",
    "The write() function is used to write a single string to a file. It takes a single argument, which is the string to be written to the file. The function returns the number of characters written to the file.\n",
    "The writelines() function is used to write a list of strings to a file. It takes a single argument, which is an iterable (e.g., a list or a tuple) containing the strings to be written to the file. Each string in the iterable is written to the file on a separate line."
   ]
  },
  {
   "cell_type": "code",
   "execution_count": 8,
   "id": "2219a042-d8f7-459e-bc0f-a9192bb5a904",
   "metadata": {},
   "outputs": [],
   "source": [
    "# example of write and writelines() function.\n",
    "with open('write.txt','w') as f:\n",
    "    f.write('Hello, we are using write function and with function together.')"
   ]
  },
  {
   "cell_type": "code",
   "execution_count": 10,
   "id": "c75ea1ed-e861-4db4-bfa0-cc49b0e80c73",
   "metadata": {},
   "outputs": [],
   "source": [
    "fruits = ['Apple', ' Banana', ' Papaya', ' Mango']\n",
    "with open('fruits_name.txt', 'w') as f:\n",
    "    f.writelines(fruits)"
   ]
  },
  {
   "cell_type": "code",
   "execution_count": null,
   "id": "8eaf6264-427e-4842-809e-b74ae34481ef",
   "metadata": {},
   "outputs": [],
   "source": []
  }
 ],
 "metadata": {
  "kernelspec": {
   "display_name": "Python 3 (ipykernel)",
   "language": "python",
   "name": "python3"
  },
  "language_info": {
   "codemirror_mode": {
    "name": "ipython",
    "version": 3
   },
   "file_extension": ".py",
   "mimetype": "text/x-python",
   "name": "python",
   "nbconvert_exporter": "python",
   "pygments_lexer": "ipython3",
   "version": "3.10.8"
  }
 },
 "nbformat": 4,
 "nbformat_minor": 5
}
